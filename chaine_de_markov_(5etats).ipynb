{
  "nbformat": 4,
  "nbformat_minor": 0,
  "metadata": {
    "colab": {
      "provenance": []
    },
    "kernelspec": {
      "name": "python3",
      "display_name": "Python 3"
    },
    "language_info": {
      "name": "python"
    }
  },
  "cells": [
    {
      "cell_type": "code",
      "execution_count": null,
      "metadata": {
        "id": "zGQbqZXcuwbu"
      },
      "outputs": [],
      "source": [
        "import pandas as pd"
      ]
    },
    {
      "cell_type": "code",
      "source": [
        "data=pd.read_excel('data anticorps.xlsx')"
      ],
      "metadata": {
        "id": "b6VaVQIVvB7F"
      },
      "execution_count": null,
      "outputs": []
    },
    {
      "cell_type": "code",
      "source": [
        "df=pd.read_excel('data_vaccin.xlsx')"
      ],
      "metadata": {
        "id": "l_vRQexNvz58"
      },
      "execution_count": null,
      "outputs": []
    },
    {
      "cell_type": "code",
      "source": [
        "# Remplacer toutes les instances de \"5J_7j\" par 7 dans la colonne \"jour_vaccinatio\"\n",
        "for i in range(len(df)):\n",
        "    # Si la valeur dans la colonne 'jour_vaccinatio' est '5J_7j'\n",
        "    if df.loc[i, 'jour_vaccin'] == ' 5j_7j':\n",
        "        # Modifier la valeur de cette cellule à 7\n",
        "        df.loc[i, 'jour_vaccin'] = 7"
      ],
      "metadata": {
        "id": "xjULcVTnv1Yj"
      },
      "execution_count": null,
      "outputs": []
    },
    {
      "cell_type": "code",
      "source": [
        "df['jour'] = df['jour'].astype(int)\n",
        "df['jour_vaccin'] = df['jour_vaccin'].astype(int)"
      ],
      "metadata": {
        "id": "KCMNCU_6xIAk"
      },
      "execution_count": null,
      "outputs": []
    },
    {
      "cell_type": "code",
      "source": [
        "df['MDA '] = df.apply(lambda x: 0 if x['jour'] <  x['jour_vaccin']+14 else x['MDA '], axis=1)"
      ],
      "metadata": {
        "id": "CHQl_8SxxLO_"
      },
      "execution_count": null,
      "outputs": []
    },
    {
      "cell_type": "code",
      "source": [
        "# Grouper les données par lot\n",
        "grouped = df.groupby('lot ')\n",
        "\n",
        "# Initialiser la liste qui contiendra les lots dont les MDA sont croissantes\n",
        "lots_croissants = []\n",
        "\n",
        "# Boucler sur chaque groupe\n",
        "for name, group in grouped:\n",
        "    # Obtenir le jour de vaccination\n",
        "    jour_vaccin = group['jour_vaccin'].iloc[0]\n",
        "\n",
        "    # Obtenir les données après jour_vaccin+14\n",
        "    after_vaccin = group[group['jour'] > jour_vaccin + 14]\n",
        "\n",
        "    # Vérifier si les MDA sont croissantes\n",
        "    if after_vaccin['MDA '].is_monotonic_increasing:\n",
        "        # Si oui, ajouter le groupe entier à la liste des lots croissants\n",
        "        lots_croissants.append(group)\n",
        "\n",
        "# Concaténer tous les groupes croissants en une seule DataFrame\n",
        "data_reponse = pd.concat(lots_croissants, ignore_index=True)"
      ],
      "metadata": {
        "id": "kq3cT9VBv4bJ"
      },
      "execution_count": null,
      "outputs": []
    },
    {
      "cell_type": "code",
      "source": [
        "moyennes_par_jour = data_reponse.groupby('jour')['MDA '].mean()\n",
        "liste_moyennes = moyennes_par_jour.tolist()\n",
        "liste_moyennes"
      ],
      "metadata": {
        "colab": {
          "base_uri": "https://localhost:8080/"
        },
        "id": "xgTJIa_Mv8sO",
        "outputId": "72c40b62-a7d8-48ba-f84c-0a07896e2cf9"
      },
      "execution_count": null,
      "outputs": [
        {
          "output_type": "execute_result",
          "data": {
            "text/plain": [
              "[0.0, 0.0, 0.0, 495.5, 752.0, 960.75]"
            ]
          },
          "metadata": {},
          "execution_count": 8
        }
      ]
    },
    {
      "cell_type": "code",
      "source": [
        "#ajustement degradation\n",
        "import numpy as np\n",
        "from scipy.optimize import curve_fit\n",
        "# Définir la fonction exponentielle\n",
        "def exp_func(x, a, b, c):\n",
        "    return a * np.exp(-b * x) + c\n",
        "\n",
        "# Entrer les données d'observation\n",
        "x_data = data['jour']\n",
        "y_data = data['MDA FLUNPS'] # Niveau d'anticorps observé\n",
        "\n",
        "# Utiliser la méthode des moindres carrés pour ajuster la courbe\n",
        "popt, pcov = curve_fit(exp_func, x_data, y_data)\n",
        "\n",
        "# Afficher les paramètres a, b et c de la fonction ajustée\n",
        "print('a1 =', popt[0], ', k1 =', popt[1], ', c1 =', popt[2])\n"
      ],
      "metadata": {
        "colab": {
          "base_uri": "https://localhost:8080/"
        },
        "id": "pqTfJMM8fRqR",
        "outputId": "6bf42618-3039-41ec-bdd1-4e9b2f90b177"
      },
      "execution_count": null,
      "outputs": [
        {
          "output_type": "stream",
          "name": "stdout",
          "text": [
            "a1 = 13625.854121665714 , k1 = 0.28738947824622907 , c1 = 595.9708514827894\n"
          ]
        },
        {
          "output_type": "stream",
          "name": "stderr",
          "text": [
            "/usr/local/lib/python3.10/dist-packages/pandas/core/arraylike.py:402: RuntimeWarning: overflow encountered in exp\n",
            "  result = getattr(ufunc, method)(*inputs, **kwargs)\n"
          ]
        }
      ]
    },
    {
      "cell_type": "code",
      "source": [
        "#ajustement repone immunitaire\n",
        "def log_func(x,a,k,c):\n",
        "\n",
        "   return  a* np.log( x) +c\n",
        "\n",
        "# Entrer les données d'observation\n",
        "x_data =np.arange(0,22,7)+0.01   # Temps en semaines\n",
        "y_data = np.array(liste_moyennes[2:] )# Niveau d'anticorps observé\n",
        "\n",
        "# Utiliser la méthode des moindres carrés pour ajuster la courbe\n",
        "#popt, pcov = curve_fit(exp_func, x_data, y_data)\n",
        "\n",
        "pop , pcov = curve_fit(log_func, x_data  , y_data,bounds=(0,np.inf) )\n",
        "pop  = np.asarray(pop , dtype=np.float64)\n",
        "\n",
        "x_data = np.asarray(x_data, dtype=np.float64)\n",
        "y_data = np.asarray(y_data, dtype=np.float64)\n",
        "# Afficher les paramètres a, b et c de la fonction ajustée\n",
        "print('A_0 =', pop [0], ', k =', pop [1], ', c =', pop [2])\n",
        ""
      ],
      "metadata": {
        "colab": {
          "base_uri": "https://localhost:8080/"
        },
        "id": "fbwbcJpswHib",
        "outputId": "cc819e71-03c9-4726-c4a0-4654294f3d9b"
      },
      "execution_count": null,
      "outputs": [
        {
          "output_type": "stream",
          "name": "stdout",
          "text": [
            "A_0 = 107.94604781215682 , k = 1.0000000000000204 , c = 470.3723607087618\n"
          ]
        }
      ]
    },
    {
      "cell_type": "code",
      "source": [
        "A_0 = popt [0]\n",
        "k = popt [1]\n",
        "c = popt [2]\n",
        "A_0 = popt [0]\n",
        "k = popt [1]\n",
        "c = popt [2]\n",
        "A_0_vaccin=pop [0]\n",
        "k1=pop [1]\n",
        "c_vaccin=pop [2]\n"
      ],
      "metadata": {
        "id": "i9ioZ1NUgvqy"
      },
      "execution_count": null,
      "outputs": []
    },
    {
      "cell_type": "code",
      "source": [
        "etat={0:\"M\",\n",
        "       1:\"S\",\n",
        "       2:\"V\",\n",
        "       3:\"I\",\n",
        "       5:\"PV\"}\n",
        "# M :le premier etat cad protégé maternellement\n",
        "# S :suceptible\n",
        "# V : vacciné\n",
        "# I : infecté\n",
        "# PV : protegé par vaccination\n",
        "\n",
        "# transitions possible M à S ;S à V; V à PV; V à I; S à I"
      ],
      "metadata": {
        "id": "LpCTANAIzFJP"
      },
      "execution_count": null,
      "outputs": []
    },
    {
      "cell_type": "code",
      "source": [
        "def A_vaccin0(t):\n",
        "  A_vaccin0 =float(nombre_anticorps) * np.exp(-k*t)+c\n",
        "  return A_vaccin0\n",
        "\n",
        "def A_t_vaccin(x,t):\n",
        "  A_t_vaccin= A_vaccin0(x) * np.log(k1 * (t-x) )+ c_vaccin\n",
        "  return A_t_vaccin\n",
        "\n",
        "def temps_pour_degradation(A_0, k , c ,m ):\n",
        "    A_0 = float(A_0)\n",
        "    t = -(1/k ) * np.log((m - c ) / A_0)\n",
        "    return t\n",
        "\n",
        "def reponse(x ,k1,c_vaccin,m):\n",
        "  t =  (1/k1) * np.exp((m - c_vaccin) / A_vaccin0(x))+x\n",
        "  return t\n",
        "\n",
        "#intervalle de transition de l'etat elevé à l'état moyen\n",
        "nombre_anticorps = input(\"Entrez le nombre d'anticorps pour le jour 1 : \")\n",
        "seuil_M= int(nombre_anticorps)* 0.2\n",
        "cut_offFLUNPS=668\n",
        "#intervalle de temps de l'etat M _on considére que le poussin va rester dans l'etat M es sa naissance jusqu'à perdre 80% des titres des MOD du premier jour\n",
        "intervalle_M = (1,round(temps_pour_degradation(nombre_anticorps, k , c ,seuil_M)))\n",
        "print('intervalle de temps pour passer de etat M à etat S: ', intervalle_M)\n",
        "#sejour de M avant de passer à S\n",
        "S_MS=intervalle_M[1]-intervalle_M[0]\n",
        "\n",
        "#pour aller de l'etat suceptible à l'etat infecté on doit avoir le nombre des anticorps qui inferieur du cutt_of FLUNPS ;donc l'intervalle de temps de S avant de passer à I va etre calculer comme suit\n",
        "intervalle_SI=(round(temps_pour_degradation(nombre_anticorps, k , c ,seuil_M))+1 ,round(temps_pour_degradation(nombre_anticorps, k , c ,cut_offFLUNPS)))\n",
        "print('intervalle de temps pour passer de etat S à etat I: ', intervalle_SI)\n",
        "#sejour de S avant de passer à I\n",
        "S_SI=intervalle_SI[1]-intervalle_SI[0]\n",
        "\n",
        "#on sait que l'age de vaccination doit etre dans l'intevalle [14;21] donc le temps qu'on va rester dans l'etat S va depondre de notre choix de l'age de vaccination\n",
        "age_vaccin= [14,15,16,17,18,19,20,21]\n",
        "sejour_SV=[]\n",
        "sejour_VPV=[]\n",
        "sejour_VI=[]\n",
        "\n",
        "for age in age_vaccin:\n",
        "    intervalle_SV = (round(temps_pour_degradation(nombre_anticorps, k, c, seuil_M)) + 1, age-1)\n",
        "    print(f\"Intervalle pour passer de etat S à V pour age de vaccination {age}: {intervalle_SV}\")\n",
        "    #sejour de S avant de passer à V\n",
        "    S_SV=intervalle_SV[1]-intervalle_SV[0]\n",
        "    sejour_SV.append(S_SV)\n",
        "\n",
        "    #pour determiner l'intervalle de temps nesséssaire pour passer de etat V à VP on va mettre l'hyphotese que le poussin arrive à etre protege si il a reussi non seulement à developper une rponse immunitaire mais aussi d'avoir un nombre des anticorps qui est superieur au cutt_off\n",
        "    intervalle_VPV=(age ,round(reponse(age+14,k1,c_vaccin,cut_offFLUNPS)))\n",
        "    print(f\"Intervalle pour passer de etat V à PV pour age de vaccination {age}: {intervalle_VPV}\")\n",
        "    #sejour de V avant de passer à PV\n",
        "    S_VPV=intervalle_VPV[1]-intervalle_VPV[0]\n",
        "    sejour_VPV.append(S_VPV)\n",
        "\n",
        "    #pour determiner l'intervalle de temps pour passer de etat V à I ;si le poussin au jour de la vaccination a un nombre des anticorps qui est pas inferieur au cutt_off on va considerer que l'intervalle va etre du jour de vaccination jusqu'au le jour ou on a le cutt_off ;et si le poussin a eu un nombre inferieur des anticorps donc le poussin peut etre infecte meme apres la vaccination par 1j on peut prendre 2 ou 3j ,car dans cette periode il n'a pas encore arriver à developper une reponse immunitaire\n",
        "    if A_vaccin0(age)> cut_offFLUNPS :\n",
        "      intervalle_VI = (age,round(temps_pour_degradation(nombre_anticorps, k , c ,cut_offFLUNPS )))\n",
        "      print(f\"Intervalle pour passer de etat V à I pour age de vaccination {age}: {intervalle_VI}\")\n",
        "      #sejour de V avant de passer à I\n",
        "      S_VI=intervalle_VI[1]-intervalle_VI[0]\n",
        "      sejour_VI.append(S_VI)\n",
        "    else :\n",
        "      intervalle_VI=(age,age+2)\n",
        "      print(f\"Intervalle pour passer de etat V à I pour age de vaccination {age}: {intervalle_VI}\")\n",
        "      #sejour de V avant de passer à I\n",
        "      S_VI=intervalle_VI[1]-intervalle_VI[0]\n",
        "      sejour_VI.append(S_VI)\n",
        "\n",
        "\n"
      ],
      "metadata": {
        "colab": {
          "base_uri": "https://localhost:8080/"
        },
        "id": "5F9bx8yMfW-L",
        "outputId": "817519f8-47cb-4091-b788-ff4c83dba4cd"
      },
      "execution_count": null,
      "outputs": [
        {
          "output_type": "stream",
          "name": "stdout",
          "text": [
            "Entrez le nombre d'anticorps pour le jour 1 : 15000\n",
            "intervalle de temps pour passer de etat M à etat S:  (1, 6)\n",
            "intervalle de temps pour passer de etat S à etat I:  (7, 19)\n",
            "Intervalle pour passer de etat S à V pour age de vaccination 14: (7, 13)\n",
            "Intervalle pour passer de etat V à PV pour age de vaccination 14: (14, 29)\n",
            "Intervalle pour passer de etat V à I pour age de vaccination 14: (14, 19)\n",
            "Intervalle pour passer de etat S à V pour age de vaccination 15: (7, 14)\n",
            "Intervalle pour passer de etat V à PV pour age de vaccination 15: (15, 30)\n",
            "Intervalle pour passer de etat V à I pour age de vaccination 15: (15, 19)\n",
            "Intervalle pour passer de etat S à V pour age de vaccination 16: (7, 15)\n",
            "Intervalle pour passer de etat V à PV pour age de vaccination 16: (16, 31)\n",
            "Intervalle pour passer de etat V à I pour age de vaccination 16: (16, 19)\n",
            "Intervalle pour passer de etat S à V pour age de vaccination 17: (7, 16)\n",
            "Intervalle pour passer de etat V à PV pour age de vaccination 17: (17, 32)\n",
            "Intervalle pour passer de etat V à I pour age de vaccination 17: (17, 19)\n",
            "Intervalle pour passer de etat S à V pour age de vaccination 18: (7, 17)\n",
            "Intervalle pour passer de etat V à PV pour age de vaccination 18: (18, 33)\n",
            "Intervalle pour passer de etat V à I pour age de vaccination 18: (18, 19)\n",
            "Intervalle pour passer de etat S à V pour age de vaccination 19: (7, 18)\n",
            "Intervalle pour passer de etat V à PV pour age de vaccination 19: (19, 34)\n",
            "Intervalle pour passer de etat V à I pour age de vaccination 19: (19, 21)\n",
            "Intervalle pour passer de etat S à V pour age de vaccination 20: (7, 19)\n",
            "Intervalle pour passer de etat V à PV pour age de vaccination 20: (20, 35)\n",
            "Intervalle pour passer de etat V à I pour age de vaccination 20: (20, 22)\n",
            "Intervalle pour passer de etat S à V pour age de vaccination 21: (7, 20)\n",
            "Intervalle pour passer de etat V à PV pour age de vaccination 21: (21, 36)\n",
            "Intervalle pour passer de etat V à I pour age de vaccination 21: (21, 23)\n"
          ]
        }
      ]
    },
    {
      "cell_type": "code",
      "source": [
        "print(sejour_SV)\n",
        "print(sejour_VPV)\n",
        "print(sejour_VI)"
      ],
      "metadata": {
        "colab": {
          "base_uri": "https://localhost:8080/"
        },
        "id": "vUHsYZjY4zhh",
        "outputId": "de635f9f-d41f-4b4a-c078-076200eaa509"
      },
      "execution_count": null,
      "outputs": [
        {
          "output_type": "stream",
          "name": "stdout",
          "text": [
            "[6, 7, 8, 9, 10, 11, 12, 13]\n",
            "[15, 15, 15, 15, 15, 15, 15, 15]\n",
            "[5, 4, 3, 2, 1, 2, 2, 2]\n"
          ]
        }
      ]
    },
    {
      "cell_type": "code",
      "source": [
        "#etats absorbants\n",
        "def etats_absorabnts(matrix):\n",
        "\tl=len(matrix)\n",
        "\tabsorbingStates=[]\n",
        "\tfor i in range(l):\n",
        "\t\tif matrix[i][i]==1:\n",
        "\t\t\tabsorbingStates.append(i)\n",
        "\n",
        "\treturn absorbingStates"
      ],
      "metadata": {
        "id": "J3yGQW27StiP"
      },
      "execution_count": null,
      "outputs": []
    },
    {
      "cell_type": "code",
      "source": [
        "#etats transitoire\n",
        "def etats_transition(matrix):\n",
        "\tl=len(matrix)\n",
        "\ttransientStates=[]\n",
        "\tfor i in range(l):\n",
        "\t\tif matrix[i][i]!=1:\n",
        "\t\t\ttransientStates.append(i)\n",
        "\n",
        "\treturn transientStates"
      ],
      "metadata": {
        "id": "OuPYveocTFpl"
      },
      "execution_count": null,
      "outputs": []
    },
    {
      "cell_type": "code",
      "source": [
        "# Q matrix\n",
        "def Q_matrice(trs,asbo):\n",
        "    QMatrice=[]\n",
        "    for i in range(len(trs)):\n",
        "        totalrow=matrice_transition[trs[i]]\n",
        "        # print(totalrow)\n",
        "        Rtemp=[]\n",
        "        for j in range(len(trs)):\n",
        "            Rtemp.append(totalrow[trs[j]])\n",
        "        QMatrice.append(Rtemp)\n",
        "    return QMatrice"
      ],
      "metadata": {
        "id": "L4vslJWCTmUs"
      },
      "execution_count": null,
      "outputs": []
    },
    {
      "cell_type": "code",
      "source": [
        "#matrice fondamentale\n",
        "def matrice_fondamentale(matrice):\n",
        "  Qmatrix=Q_matrice(etats_transition(matrice ),etats_absorabnts(matrice ))\n",
        "\n",
        "  identity=I = np.identity (len(Qmatrix))\n",
        "  L= identity - Qmatrix\n",
        "  N=np.linalg.inv(L)\n",
        "  return N"
      ],
      "metadata": {
        "id": "prESe4ezTpxe"
      },
      "execution_count": null,
      "outputs": []
    },
    {
      "cell_type": "code",
      "source": [
        "#matrice R\n",
        "def R_matrice(trs,abso):\n",
        "    RMatrice=[]\n",
        "    for i in range(len(trs)):\n",
        "        totalrow=matrice_transition[trs[i]]\n",
        "        # print(totalrow)\n",
        "        Rtemp=[]\n",
        "        for j in range(len(abso)):\n",
        "            Rtemp.append(totalrow[abso[j]])\n",
        "        RMatrice.append(Rtemp)\n",
        "    return RMatrice"
      ],
      "metadata": {
        "id": "dUzBe2PZTpyx"
      },
      "execution_count": null,
      "outputs": []
    },
    {
      "cell_type": "code",
      "source": [
        "# probabilité d'absorption:\n",
        "# B = (I - Q)^-1 * R\n",
        "\n",
        "def matrice_probabilité_absorption(N,R):\n",
        "  B= np.dot(N,R)\n",
        "  return B"
      ],
      "metadata": {
        "id": "wNesi1IlUEA8"
      },
      "execution_count": null,
      "outputs": []
    },
    {
      "cell_type": "code",
      "source": [
        "#matrice generatrice\n",
        "for i in range(0,len(age_vaccin)-1):\n",
        "  print(\"pour age de vaccination: \", 14+i)\n",
        "  # Construction de la matrice de transition\n",
        "  print(\"matrice generatrice\")\n",
        "  #taux d'infection sans vaccination 0.5\n",
        "  #taux d'echec de vaccination 0.02\n",
        "  ####probleme///\n",
        "  #sejour_SV : sejour dans S avant de passer à l'etat V (commence dès le jour qu'il devient suceptible jusqu'au jour de vaccination)\n",
        "  #sejour_SI : sejour dans S avant de passer à l'etat I ((commence dès le jour qu'il devient suceptible jusqu'au jour de Infection sachant que si on a un no,bre des anticorps inferieur au cutt_off on a une grande probabilité d'etre infecté )\n",
        "  #sejour_VI:sejour dans V avant de passer à l'etat I(commence des le jour de vaccination)cad que le poussin a ete infecter avant de developper une reponse immunitaire\n",
        "  #sejour_VPV:sejour dans V avant de passer à l'etat PV ((commence des le jour de vaccination jusqu'à arriver à developper une reponse immunitaire suffisante cad superieur au cutt-off)\n",
        "  matrice_generatrice = np.array([[ -1/S_MS , 1/S_MS , 0,0, 0], #M\n",
        "                               [0 , -1/(sejour_SV[i]+S_SI) ,1/(sejour_SV[i]+S_SI)*0.5 , 1/(sejour_SV[i]+S_SI)*0.5 , 0],#S\n",
        "                               [0, 0, -1/(sejour_VI[i]+sejour_VPV[i]) , 1/(sejour_VI[i]+sejour_VPV[i])*0.02 ,1/(sejour_VI[i]+sejour_VPV[i])*0.98 ],#V\n",
        "                               [0 , 0, 0 , 0, 0 ],#I\n",
        "                               [0, 0 ,0 ,0 ,0]#PV\n",
        "                               ])\n",
        "  print(matrice_generatrice)\n",
        "\n",
        "  print('matrice de transition')\n",
        "  # 0 si i=j ; si i!=j :  a(i,j)/-lambda_i ; et si i=j avec i absorbant donc c'est 1\n",
        "  #dans notre cas on a 2 etat absorants sont I et PV\n",
        "  matrice_transition =np.array([[0 , 1  , 0,0, 0],\n",
        "                               [0 , 0 , 0.5 , 0.5 , 0],\n",
        "                               [0, 0, 0 , 0.02 , 0.98 ],\n",
        "                               [0 , 0, 0 , 1, 0 ],\n",
        "                               [0, 0 ,0 ,0 ,1]\n",
        "                               ])\n",
        "  print(matrice_transition)\n",
        "\n",
        "  #etats absorbants\n",
        "  etats_absorabnts(matrice_transition)\n",
        "\n",
        "  #etats transitoires\n",
        "  etats_transition (matrice_transition)\n",
        "\n",
        "  #matrice Q\n",
        "  Qmatrix=Q_matrice(etats_transition(matrice_transition),etats_absorabnts(matrice_transition))\n",
        "\n",
        "  #matrice identité\n",
        "  identity=I = np.identity (len(Qmatrix))\n",
        "\n",
        "  #matrice fondamentale\n",
        "  matrice_fondamentale(matrice_transition)\n",
        "\n",
        "  #matrice R\n",
        "  R_matrice(etats_transition(matrice_transition),etats_absorabnts(matrice_transition))\n",
        "\n",
        "  #matrice des probabilité d'absorption\n",
        "  print(\"matrice de probabilités d absorption\")\n",
        "  matrice_probabilité=matrice_probabilité_absorption(matrice_fondamentale(matrice_transition),R_matrice(etats_transition(matrice_transition),etats_absorabnts(matrice_transition)))\n",
        "  print(matrice_probabilité)\n",
        "\n"
      ],
      "metadata": {
        "colab": {
          "base_uri": "https://localhost:8080/"
        },
        "id": "OW9SclBVFBs1",
        "outputId": "ab75b809-750e-4c1e-c4f2-f89c18432a81"
      },
      "execution_count": null,
      "outputs": [
        {
          "output_type": "stream",
          "name": "stdout",
          "text": [
            "pour age de vaccination:  14\n",
            "matrice generatrice\n",
            "[[-0.2         0.2         0.          0.          0.        ]\n",
            " [ 0.         -0.05555556  0.02777778  0.02777778  0.        ]\n",
            " [ 0.          0.         -0.05        0.001       0.049     ]\n",
            " [ 0.          0.          0.          0.          0.        ]\n",
            " [ 0.          0.          0.          0.          0.        ]]\n",
            "matrice de transition\n",
            "[[0.   1.   0.   0.   0.  ]\n",
            " [0.   0.   0.5  0.5  0.  ]\n",
            " [0.   0.   0.   0.02 0.98]\n",
            " [0.   0.   0.   1.   0.  ]\n",
            " [0.   0.   0.   0.   1.  ]]\n",
            "matrice de probabilités d absorption\n",
            "[[0.51 0.49]\n",
            " [0.51 0.49]\n",
            " [0.02 0.98]]\n",
            "pour age de vaccination:  15\n",
            "matrice generatrice\n",
            "[[-0.2         0.2         0.          0.          0.        ]\n",
            " [ 0.         -0.05263158  0.02631579  0.02631579  0.        ]\n",
            " [ 0.          0.         -0.05263158  0.00105263  0.05157895]\n",
            " [ 0.          0.          0.          0.          0.        ]\n",
            " [ 0.          0.          0.          0.          0.        ]]\n",
            "matrice de transition\n",
            "[[0.   1.   0.   0.   0.  ]\n",
            " [0.   0.   0.5  0.5  0.  ]\n",
            " [0.   0.   0.   0.02 0.98]\n",
            " [0.   0.   0.   1.   0.  ]\n",
            " [0.   0.   0.   0.   1.  ]]\n",
            "matrice de probabilités d absorption\n",
            "[[0.51 0.49]\n",
            " [0.51 0.49]\n",
            " [0.02 0.98]]\n",
            "pour age de vaccination:  16\n",
            "matrice generatrice\n",
            "[[-0.2         0.2         0.          0.          0.        ]\n",
            " [ 0.         -0.05        0.025       0.025       0.        ]\n",
            " [ 0.          0.         -0.05555556  0.00111111  0.05444444]\n",
            " [ 0.          0.          0.          0.          0.        ]\n",
            " [ 0.          0.          0.          0.          0.        ]]\n",
            "matrice de transition\n",
            "[[0.   1.   0.   0.   0.  ]\n",
            " [0.   0.   0.5  0.5  0.  ]\n",
            " [0.   0.   0.   0.02 0.98]\n",
            " [0.   0.   0.   1.   0.  ]\n",
            " [0.   0.   0.   0.   1.  ]]\n",
            "matrice de probabilités d absorption\n",
            "[[0.51 0.49]\n",
            " [0.51 0.49]\n",
            " [0.02 0.98]]\n",
            "pour age de vaccination:  17\n",
            "matrice generatrice\n",
            "[[-0.2         0.2         0.          0.          0.        ]\n",
            " [ 0.         -0.04761905  0.02380952  0.02380952  0.        ]\n",
            " [ 0.          0.         -0.05882353  0.00117647  0.05764706]\n",
            " [ 0.          0.          0.          0.          0.        ]\n",
            " [ 0.          0.          0.          0.          0.        ]]\n",
            "matrice de transition\n",
            "[[0.   1.   0.   0.   0.  ]\n",
            " [0.   0.   0.5  0.5  0.  ]\n",
            " [0.   0.   0.   0.02 0.98]\n",
            " [0.   0.   0.   1.   0.  ]\n",
            " [0.   0.   0.   0.   1.  ]]\n",
            "matrice de probabilités d absorption\n",
            "[[0.51 0.49]\n",
            " [0.51 0.49]\n",
            " [0.02 0.98]]\n",
            "pour age de vaccination:  18\n",
            "matrice generatrice\n",
            "[[-0.2         0.2         0.          0.          0.        ]\n",
            " [ 0.         -0.04545455  0.02272727  0.02272727  0.        ]\n",
            " [ 0.          0.         -0.0625      0.00125     0.06125   ]\n",
            " [ 0.          0.          0.          0.          0.        ]\n",
            " [ 0.          0.          0.          0.          0.        ]]\n",
            "matrice de transition\n",
            "[[0.   1.   0.   0.   0.  ]\n",
            " [0.   0.   0.5  0.5  0.  ]\n",
            " [0.   0.   0.   0.02 0.98]\n",
            " [0.   0.   0.   1.   0.  ]\n",
            " [0.   0.   0.   0.   1.  ]]\n",
            "matrice de probabilités d absorption\n",
            "[[0.51 0.49]\n",
            " [0.51 0.49]\n",
            " [0.02 0.98]]\n",
            "pour age de vaccination:  19\n",
            "matrice generatrice\n",
            "[[-0.2         0.2         0.          0.          0.        ]\n",
            " [ 0.         -0.04347826  0.02173913  0.02173913  0.        ]\n",
            " [ 0.          0.         -0.05882353  0.00117647  0.05764706]\n",
            " [ 0.          0.          0.          0.          0.        ]\n",
            " [ 0.          0.          0.          0.          0.        ]]\n",
            "matrice de transition\n",
            "[[0.   1.   0.   0.   0.  ]\n",
            " [0.   0.   0.5  0.5  0.  ]\n",
            " [0.   0.   0.   0.02 0.98]\n",
            " [0.   0.   0.   1.   0.  ]\n",
            " [0.   0.   0.   0.   1.  ]]\n",
            "matrice de probabilités d absorption\n",
            "[[0.51 0.49]\n",
            " [0.51 0.49]\n",
            " [0.02 0.98]]\n",
            "pour age de vaccination:  20\n",
            "matrice generatrice\n",
            "[[-0.2         0.2         0.          0.          0.        ]\n",
            " [ 0.         -0.04166667  0.02083333  0.02083333  0.        ]\n",
            " [ 0.          0.         -0.05882353  0.00117647  0.05764706]\n",
            " [ 0.          0.          0.          0.          0.        ]\n",
            " [ 0.          0.          0.          0.          0.        ]]\n",
            "matrice de transition\n",
            "[[0.   1.   0.   0.   0.  ]\n",
            " [0.   0.   0.5  0.5  0.  ]\n",
            " [0.   0.   0.   0.02 0.98]\n",
            " [0.   0.   0.   1.   0.  ]\n",
            " [0.   0.   0.   0.   1.  ]]\n",
            "matrice de probabilités d absorption\n",
            "[[0.51 0.49]\n",
            " [0.51 0.49]\n",
            " [0.02 0.98]]\n"
          ]
        }
      ]
    },
    {
      "cell_type": "code",
      "source": [
        "#matrice generatrice\n",
        "for i in range(0,len(age_vaccin)-1):\n",
        "  print(\"pour age de vaccination: \", 14+i)\n",
        "  # Construction de la matrice de transition\n",
        "  print(\"matrice generatrice\")\n",
        "  #taux d'infection sans vaccination 0.5\n",
        "  #taux d'echec de vaccination 0.02\n",
        "  matrice_generatrice = np.array([[ S_MS , S_MS , 0,0, 0],\n",
        "                               [0 , -sejour_SV[i]-S_SI , sejour_SV[i] ,S_SI , 0],\n",
        "                               [0, 0, -sejour_VI[i] -sejour_VPV[i] , sejour_VI[i] ,sejour_VPV[i] ],\n",
        "                               [0 , 0, 0 , 0, 0 ],\n",
        "                               [0, 0 ,0 ,0 ,0]\n",
        "                               ])\n",
        "  print(matrice_generatrice)\n",
        "\n",
        "  print('matrice de transition')\n",
        "  # 0 si i=j ; si i!=j :  a(i,j)/-landa_i ; et si i=j avec i absorbant donc c'est 1\n",
        "  #dans notre cas on a 2 etat absorants sont I et PV\n",
        "  matrice_transition =np.array([[0 , S_MS/S_MS  , 0,0, 0],\n",
        "                               [0 , 0 , sejour_SV[i]/(sejour_SV[i]+S_SI) , S_SI/(sejour_SV[i]+S_SI) , 0],\n",
        "                               [0, 0, 0 , sejour_VI[i]/(sejour_VI[i]+sejour_VPV[i]) ,sejour_VPV[i]/(sejour_VI[i] +sejour_VPV[i]) ],\n",
        "                               [0 , 0, 0 , 1, 0 ],\n",
        "                               [0, 0 ,0 ,0 ,1]\n",
        "                               ])\n",
        "  print(matrice_transition)\n",
        "\n",
        "  #etats absorbants\n",
        "  etats_absorabnts(matrice_transition)\n",
        "\n",
        "  #etats transitoires\n",
        "  etats_transition (matrice_transition)\n",
        "\n",
        "  #matrice Q\n",
        "  Qmatrix=Q_matrice(etats_transition(matrice_transition),etats_absorabnts(matrice_transition))\n",
        "\n",
        "  #matrice identité\n",
        "  identity=I = np.identity (len(Qmatrix))\n",
        "\n",
        "  #matrice fondamentale\n",
        "  matrice_fondamentale(matrice_transition)\n",
        "\n",
        "  #matrice R\n",
        "  R_matrice(etats_transition(matrice_transition),etats_absorabnts(matrice_transition))\n",
        "\n",
        "  #matrice des probabilité d'absorption\n",
        "  print(\"matrice de probabilités d absorption\")\n",
        "  matrice_probabilité=matrice_probabilité_absorption(matrice_fondamentale(matrice_transition),R_matrice(etats_transition(matrice_transition),etats_absorabnts(matrice_transition)))\n",
        "  print(matrice_probabilité)\n",
        "\n"
      ],
      "metadata": {
        "colab": {
          "base_uri": "https://localhost:8080/"
        },
        "id": "zjrXav0-zRwf",
        "outputId": "98d78c6d-228f-4e7d-c169-150bf220946b"
      },
      "execution_count": null,
      "outputs": [
        {
          "output_type": "stream",
          "name": "stdout",
          "text": [
            "pour age de vaccination:  14\n",
            "matrice generatrice\n",
            "[[  5   5   0   0   0]\n",
            " [  0 -18   6  12   0]\n",
            " [  0   0 -20   5  15]\n",
            " [  0   0   0   0   0]\n",
            " [  0   0   0   0   0]]\n",
            "matrice de transition\n",
            "[[0.         1.         0.         0.         0.        ]\n",
            " [0.         0.         0.33333333 0.66666667 0.        ]\n",
            " [0.         0.         0.         0.25       0.75      ]\n",
            " [0.         0.         0.         1.         0.        ]\n",
            " [0.         0.         0.         0.         1.        ]]\n",
            "matrice de probabilités d absorption\n",
            "[[0.75 0.25]\n",
            " [0.75 0.25]\n",
            " [0.25 0.75]]\n",
            "pour age de vaccination:  15\n",
            "matrice generatrice\n",
            "[[  5   5   0   0   0]\n",
            " [  0 -19   7  12   0]\n",
            " [  0   0 -19   4  15]\n",
            " [  0   0   0   0   0]\n",
            " [  0   0   0   0   0]]\n",
            "matrice de transition\n",
            "[[0.         1.         0.         0.         0.        ]\n",
            " [0.         0.         0.36842105 0.63157895 0.        ]\n",
            " [0.         0.         0.         0.21052632 0.78947368]\n",
            " [0.         0.         0.         1.         0.        ]\n",
            " [0.         0.         0.         0.         1.        ]]\n",
            "matrice de probabilités d absorption\n",
            "[[0.70914127 0.29085873]\n",
            " [0.70914127 0.29085873]\n",
            " [0.21052632 0.78947368]]\n",
            "pour age de vaccination:  16\n",
            "matrice generatrice\n",
            "[[  5   5   0   0   0]\n",
            " [  0 -20   8  12   0]\n",
            " [  0   0 -18   3  15]\n",
            " [  0   0   0   0   0]\n",
            " [  0   0   0   0   0]]\n",
            "matrice de transition\n",
            "[[0.         1.         0.         0.         0.        ]\n",
            " [0.         0.         0.4        0.6        0.        ]\n",
            " [0.         0.         0.         0.16666667 0.83333333]\n",
            " [0.         0.         0.         1.         0.        ]\n",
            " [0.         0.         0.         0.         1.        ]]\n",
            "matrice de probabilités d absorption\n",
            "[[0.66666667 0.33333333]\n",
            " [0.66666667 0.33333333]\n",
            " [0.16666667 0.83333333]]\n",
            "pour age de vaccination:  17\n",
            "matrice generatrice\n",
            "[[  5   5   0   0   0]\n",
            " [  0 -21   9  12   0]\n",
            " [  0   0 -17   2  15]\n",
            " [  0   0   0   0   0]\n",
            " [  0   0   0   0   0]]\n",
            "matrice de transition\n",
            "[[0.         1.         0.         0.         0.        ]\n",
            " [0.         0.         0.42857143 0.57142857 0.        ]\n",
            " [0.         0.         0.         0.11764706 0.88235294]\n",
            " [0.         0.         0.         1.         0.        ]\n",
            " [0.         0.         0.         0.         1.        ]]\n",
            "matrice de probabilités d absorption\n",
            "[[0.62184874 0.37815126]\n",
            " [0.62184874 0.37815126]\n",
            " [0.11764706 0.88235294]]\n",
            "pour age de vaccination:  18\n",
            "matrice generatrice\n",
            "[[  5   5   0   0   0]\n",
            " [  0 -22  10  12   0]\n",
            " [  0   0 -16   1  15]\n",
            " [  0   0   0   0   0]\n",
            " [  0   0   0   0   0]]\n",
            "matrice de transition\n",
            "[[0.         1.         0.         0.         0.        ]\n",
            " [0.         0.         0.45454545 0.54545455 0.        ]\n",
            " [0.         0.         0.         0.0625     0.9375    ]\n",
            " [0.         0.         0.         1.         0.        ]\n",
            " [0.         0.         0.         0.         1.        ]]\n",
            "matrice de probabilités d absorption\n",
            "[[0.57386364 0.42613636]\n",
            " [0.57386364 0.42613636]\n",
            " [0.0625     0.9375    ]]\n",
            "pour age de vaccination:  19\n",
            "matrice generatrice\n",
            "[[  5   5   0   0   0]\n",
            " [  0 -23  11  12   0]\n",
            " [  0   0 -17   2  15]\n",
            " [  0   0   0   0   0]\n",
            " [  0   0   0   0   0]]\n",
            "matrice de transition\n",
            "[[0.         1.         0.         0.         0.        ]\n",
            " [0.         0.         0.47826087 0.52173913 0.        ]\n",
            " [0.         0.         0.         0.11764706 0.88235294]\n",
            " [0.         0.         0.         1.         0.        ]\n",
            " [0.         0.         0.         0.         1.        ]]\n",
            "matrice de probabilités d absorption\n",
            "[[0.57800512 0.42199488]\n",
            " [0.57800512 0.42199488]\n",
            " [0.11764706 0.88235294]]\n",
            "pour age de vaccination:  20\n",
            "matrice generatrice\n",
            "[[  5   5   0   0   0]\n",
            " [  0 -24  12  12   0]\n",
            " [  0   0 -17   2  15]\n",
            " [  0   0   0   0   0]\n",
            " [  0   0   0   0   0]]\n",
            "matrice de transition\n",
            "[[0.         1.         0.         0.         0.        ]\n",
            " [0.         0.         0.5        0.5        0.        ]\n",
            " [0.         0.         0.         0.11764706 0.88235294]\n",
            " [0.         0.         0.         1.         0.        ]\n",
            " [0.         0.         0.         0.         1.        ]]\n",
            "matrice de probabilités d absorption\n",
            "[[0.55882353 0.44117647]\n",
            " [0.55882353 0.44117647]\n",
            " [0.11764706 0.88235294]]\n"
          ]
        }
      ]
    }
  ]
}