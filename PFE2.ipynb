{
  "nbformat": 4,
  "nbformat_minor": 0,
  "metadata": {
    "colab": {
      "provenance": []
    },
    "kernelspec": {
      "name": "python3",
      "display_name": "Python 3"
    },
    "language_info": {
      "name": "python"
    }
  },
  "cells": [
    {
      "cell_type": "code",
      "execution_count": null,
      "metadata": {
        "id": "TsKDe1I3vvkE"
      },
      "outputs": [],
      "source": [
        "import pandas as pd"
      ]
    },
    {
      "cell_type": "code",
      "source": [
        "data=pd.read_excel('data anticorps.xlsx')"
      ],
      "metadata": {
        "id": "zBmDFukBBgwp"
      },
      "execution_count": null,
      "outputs": []
    },
    {
      "cell_type": "code",
      "source": [
        "data"
      ],
      "metadata": {
        "colab": {
          "base_uri": "https://localhost:8080/",
          "height": 423
        },
        "id": "crFgvxFgBjbb",
        "outputId": "b4a49dd2-6c02-4432-a890-f3ffd1593f9c"
      },
      "execution_count": null,
      "outputs": [
        {
          "output_type": "execute_result",
          "data": {
            "text/plain": [
              "       individu   jour  MDA FLUNPS  MDA FLUH9S\n",
              "0     individu 1     1       11649       18811\n",
              "1     individu 1     7        5006       12107\n",
              "2     individu 1    14        5006        7452\n",
              "3     individu 1    21        3174        2640\n",
              "4     individu 1    28        2775        1038\n",
              "..           ...   ...         ...         ...\n",
              "135  individu 20    14         127         300\n",
              "136  individu 20    21         478         151\n",
              "137  individu 20    28         136          52\n",
              "138  individu 20    35          40           1\n",
              "139  individu 20    42          23           1\n",
              "\n",
              "[140 rows x 4 columns]"
            ],
            "text/html": [
              "\n",
              "  <div id=\"df-2205eb6a-2f78-4747-8be3-c71431e4ec2b\">\n",
              "    <div class=\"colab-df-container\">\n",
              "      <div>\n",
              "<style scoped>\n",
              "    .dataframe tbody tr th:only-of-type {\n",
              "        vertical-align: middle;\n",
              "    }\n",
              "\n",
              "    .dataframe tbody tr th {\n",
              "        vertical-align: top;\n",
              "    }\n",
              "\n",
              "    .dataframe thead th {\n",
              "        text-align: right;\n",
              "    }\n",
              "</style>\n",
              "<table border=\"1\" class=\"dataframe\">\n",
              "  <thead>\n",
              "    <tr style=\"text-align: right;\">\n",
              "      <th></th>\n",
              "      <th>individu</th>\n",
              "      <th>jour</th>\n",
              "      <th>MDA FLUNPS</th>\n",
              "      <th>MDA FLUH9S</th>\n",
              "    </tr>\n",
              "  </thead>\n",
              "  <tbody>\n",
              "    <tr>\n",
              "      <th>0</th>\n",
              "      <td>individu 1</td>\n",
              "      <td>1</td>\n",
              "      <td>11649</td>\n",
              "      <td>18811</td>\n",
              "    </tr>\n",
              "    <tr>\n",
              "      <th>1</th>\n",
              "      <td>individu 1</td>\n",
              "      <td>7</td>\n",
              "      <td>5006</td>\n",
              "      <td>12107</td>\n",
              "    </tr>\n",
              "    <tr>\n",
              "      <th>2</th>\n",
              "      <td>individu 1</td>\n",
              "      <td>14</td>\n",
              "      <td>5006</td>\n",
              "      <td>7452</td>\n",
              "    </tr>\n",
              "    <tr>\n",
              "      <th>3</th>\n",
              "      <td>individu 1</td>\n",
              "      <td>21</td>\n",
              "      <td>3174</td>\n",
              "      <td>2640</td>\n",
              "    </tr>\n",
              "    <tr>\n",
              "      <th>4</th>\n",
              "      <td>individu 1</td>\n",
              "      <td>28</td>\n",
              "      <td>2775</td>\n",
              "      <td>1038</td>\n",
              "    </tr>\n",
              "    <tr>\n",
              "      <th>...</th>\n",
              "      <td>...</td>\n",
              "      <td>...</td>\n",
              "      <td>...</td>\n",
              "      <td>...</td>\n",
              "    </tr>\n",
              "    <tr>\n",
              "      <th>135</th>\n",
              "      <td>individu 20</td>\n",
              "      <td>14</td>\n",
              "      <td>127</td>\n",
              "      <td>300</td>\n",
              "    </tr>\n",
              "    <tr>\n",
              "      <th>136</th>\n",
              "      <td>individu 20</td>\n",
              "      <td>21</td>\n",
              "      <td>478</td>\n",
              "      <td>151</td>\n",
              "    </tr>\n",
              "    <tr>\n",
              "      <th>137</th>\n",
              "      <td>individu 20</td>\n",
              "      <td>28</td>\n",
              "      <td>136</td>\n",
              "      <td>52</td>\n",
              "    </tr>\n",
              "    <tr>\n",
              "      <th>138</th>\n",
              "      <td>individu 20</td>\n",
              "      <td>35</td>\n",
              "      <td>40</td>\n",
              "      <td>1</td>\n",
              "    </tr>\n",
              "    <tr>\n",
              "      <th>139</th>\n",
              "      <td>individu 20</td>\n",
              "      <td>42</td>\n",
              "      <td>23</td>\n",
              "      <td>1</td>\n",
              "    </tr>\n",
              "  </tbody>\n",
              "</table>\n",
              "<p>140 rows × 4 columns</p>\n",
              "</div>\n",
              "      <button class=\"colab-df-convert\" onclick=\"convertToInteractive('df-2205eb6a-2f78-4747-8be3-c71431e4ec2b')\"\n",
              "              title=\"Convert this dataframe to an interactive table.\"\n",
              "              style=\"display:none;\">\n",
              "        \n",
              "  <svg xmlns=\"http://www.w3.org/2000/svg\" height=\"24px\"viewBox=\"0 0 24 24\"\n",
              "       width=\"24px\">\n",
              "    <path d=\"M0 0h24v24H0V0z\" fill=\"none\"/>\n",
              "    <path d=\"M18.56 5.44l.94 2.06.94-2.06 2.06-.94-2.06-.94-.94-2.06-.94 2.06-2.06.94zm-11 1L8.5 8.5l.94-2.06 2.06-.94-2.06-.94L8.5 2.5l-.94 2.06-2.06.94zm10 10l.94 2.06.94-2.06 2.06-.94-2.06-.94-.94-2.06-.94 2.06-2.06.94z\"/><path d=\"M17.41 7.96l-1.37-1.37c-.4-.4-.92-.59-1.43-.59-.52 0-1.04.2-1.43.59L10.3 9.45l-7.72 7.72c-.78.78-.78 2.05 0 2.83L4 21.41c.39.39.9.59 1.41.59.51 0 1.02-.2 1.41-.59l7.78-7.78 2.81-2.81c.8-.78.8-2.07 0-2.86zM5.41 20L4 18.59l7.72-7.72 1.47 1.35L5.41 20z\"/>\n",
              "  </svg>\n",
              "      </button>\n",
              "      \n",
              "  <style>\n",
              "    .colab-df-container {\n",
              "      display:flex;\n",
              "      flex-wrap:wrap;\n",
              "      gap: 12px;\n",
              "    }\n",
              "\n",
              "    .colab-df-convert {\n",
              "      background-color: #E8F0FE;\n",
              "      border: none;\n",
              "      border-radius: 50%;\n",
              "      cursor: pointer;\n",
              "      display: none;\n",
              "      fill: #1967D2;\n",
              "      height: 32px;\n",
              "      padding: 0 0 0 0;\n",
              "      width: 32px;\n",
              "    }\n",
              "\n",
              "    .colab-df-convert:hover {\n",
              "      background-color: #E2EBFA;\n",
              "      box-shadow: 0px 1px 2px rgba(60, 64, 67, 0.3), 0px 1px 3px 1px rgba(60, 64, 67, 0.15);\n",
              "      fill: #174EA6;\n",
              "    }\n",
              "\n",
              "    [theme=dark] .colab-df-convert {\n",
              "      background-color: #3B4455;\n",
              "      fill: #D2E3FC;\n",
              "    }\n",
              "\n",
              "    [theme=dark] .colab-df-convert:hover {\n",
              "      background-color: #434B5C;\n",
              "      box-shadow: 0px 1px 3px 1px rgba(0, 0, 0, 0.15);\n",
              "      filter: drop-shadow(0px 1px 2px rgba(0, 0, 0, 0.3));\n",
              "      fill: #FFFFFF;\n",
              "    }\n",
              "  </style>\n",
              "\n",
              "      <script>\n",
              "        const buttonEl =\n",
              "          document.querySelector('#df-2205eb6a-2f78-4747-8be3-c71431e4ec2b button.colab-df-convert');\n",
              "        buttonEl.style.display =\n",
              "          google.colab.kernel.accessAllowed ? 'block' : 'none';\n",
              "\n",
              "        async function convertToInteractive(key) {\n",
              "          const element = document.querySelector('#df-2205eb6a-2f78-4747-8be3-c71431e4ec2b');\n",
              "          const dataTable =\n",
              "            await google.colab.kernel.invokeFunction('convertToInteractive',\n",
              "                                                     [key], {});\n",
              "          if (!dataTable) return;\n",
              "\n",
              "          const docLinkHtml = 'Like what you see? Visit the ' +\n",
              "            '<a target=\"_blank\" href=https://colab.research.google.com/notebooks/data_table.ipynb>data table notebook</a>'\n",
              "            + ' to learn more about interactive tables.';\n",
              "          element.innerHTML = '';\n",
              "          dataTable['output_type'] = 'display_data';\n",
              "          await google.colab.output.renderOutput(dataTable, element);\n",
              "          const docLink = document.createElement('div');\n",
              "          docLink.innerHTML = docLinkHtml;\n",
              "          element.appendChild(docLink);\n",
              "        }\n",
              "      </script>\n",
              "    </div>\n",
              "  </div>\n",
              "  "
            ]
          },
          "metadata": {},
          "execution_count": 3
        }
      ]
    },
    {
      "cell_type": "code",
      "source": [
        "from scipy.optimize import curve_fit\n",
        "import numpy as np\n",
        "# Définir la fonction exponentielle\n",
        "def exp_func(x, a, b, c):\n",
        "    return a * np.exp(-b * x) + c\n",
        "\n",
        "# Entrer les données d'observation\n",
        "x_data = data['jour']\n",
        "y_data = data['MDA FLUNPS'] # Niveau d'anticorps observé\n",
        "\n",
        "# Utiliser la méthode des moindres carrés pour ajuster la courbe\n",
        "popt, pcov = curve_fit(exp_func, x_data, y_data)\n",
        "\n",
        "# Afficher les paramètres a, b et c de la fonction ajustée\n",
        "print('a1 =', popt[0], ', k1 =', popt[1], ', c1 =', popt[2])\n",
        "\n",
        "# Plot des données d'observation et de la fonction ajustée\n",
        "import matplotlib.pyplot as plt\n",
        "\n",
        "plt.plot(x_data, y_data, 'o', label='Données d\\'observation')\n",
        "plt.plot(x_data, exp_func(x_data, *popt), 'r-', label='Fonction exponentielle ajustée')\n",
        "plt.legend()\n",
        "plt.show()"
      ],
      "metadata": {
        "colab": {
          "base_uri": "https://localhost:8080/",
          "height": 485
        },
        "id": "28KFpGcJSNcm",
        "outputId": "385c3f46-619b-4767-bc8a-90d891fba1e8"
      },
      "execution_count": null,
      "outputs": [
        {
          "output_type": "stream",
          "name": "stderr",
          "text": [
            "/usr/local/lib/python3.10/dist-packages/pandas/core/arraylike.py:402: RuntimeWarning: overflow encountered in exp\n",
            "  result = getattr(ufunc, method)(*inputs, **kwargs)\n"
          ]
        },
        {
          "output_type": "stream",
          "name": "stdout",
          "text": [
            "a1 = 13625.854121665714 , k1 = 0.28738947824622907 , c1 = 595.9708514827894\n"
          ]
        },
        {
          "output_type": "display_data",
          "data": {
            "text/plain": [
              "<Figure size 640x480 with 1 Axes>"
            ],
            "image/png": "[encoded data removed]"
          },
          "metadata": {}
        }
      ]
    },
    {
      "cell_type": "code",
      "source": [],
      "metadata": {
        "id": "P86WI_hNY_w5"
      },
      "execution_count": null,
      "outputs": []
    },
    {
      "cell_type": "code",
      "source": [
        "k1=popt[1]\n",
        "c1=popt[2]"
      ],
      "metadata": {
        "id": "GqgkmmubSePQ"
      },
      "execution_count": null,
      "outputs": []
    },
    {
      "cell_type": "code",
      "source": [
        "g  = data.groupby('jour')\n",
        "data1=g.get_group(1)\n",
        "data1"
      ],
      "metadata": {
        "colab": {
          "base_uri": "https://localhost:8080/",
          "height": 676
        },
        "id": "EReDlLpTF2Te",
        "outputId": "d8ec3ba6-89e4-44e9-e60c-5a0e8fdfc8a8"
      },
      "execution_count": null,
      "outputs": [
        {
          "output_type": "execute_result",
          "data": {
            "text/plain": [
              "       individu   jour  MDA FLUNPS  MDA FLUH9S\n",
              "0     individu 1     1       11649       18811\n",
              "7     individu 2     1       11642       18393\n",
              "14    individu 3     1       11543       17874\n",
              "21    individu 4     1       11529       17827\n",
              "28    individu 5     1       11487       17687\n",
              "35    individu 6     1       11465       17656\n",
              "42    individu 7     1       11371       16549\n",
              "49    individu 8     1       11339       16174\n",
              "56    individu 9     1       11191       16159\n",
              "63   individu 10     1       11141       16058\n",
              "70   individu 11     1       11026       15655\n",
              "77   individu 12     1       10882       15232\n",
              "84   individu 13     1       10796       15186\n",
              "91   individu 14     1       10789       15178\n",
              "98   individu 15     1       10721       15106\n",
              "105  individu 16     1       10396       14873\n",
              "112  individu 17     1        9719       14853\n",
              "119  individu 18     1        9657       12472\n",
              "126  individu 19     1        9603       12107\n",
              "133  individu 20     1        8778       11911"
            ],
            "text/html": [
              "\n",
              "  <div id=\"df-4b45c57d-e6d0-4e63-96af-84e8e44083da\">\n",
              "    <div class=\"colab-df-container\">\n",
              "      <div>\n",
              "<style scoped>\n",
              "    .dataframe tbody tr th:only-of-type {\n",
              "        vertical-align: middle;\n",
              "    }\n",
              "\n",
              "    .dataframe tbody tr th {\n",
              "        vertical-align: top;\n",
              "    }\n",
              "\n",
              "    .dataframe thead th {\n",
              "        text-align: right;\n",
              "    }\n",
              "</style>\n",
              "<table border=\"1\" class=\"dataframe\">\n",
              "  <thead>\n",
              "    <tr style=\"text-align: right;\">\n",
              "      <th></th>\n",
              "      <th>individu</th>\n",
              "      <th>jour</th>\n",
              "      <th>MDA FLUNPS</th>\n",
              "      <th>MDA FLUH9S</th>\n",
              "    </tr>\n",
              "  </thead>\n",
              "  <tbody>\n",
              "    <tr>\n",
              "      <th>0</th>\n",
              "      <td>individu 1</td>\n",
              "      <td>1</td>\n",
              "      <td>11649</td>\n",
              "      <td>18811</td>\n",
              "    </tr>\n",
              "    <tr>\n",
              "      <th>7</th>\n",
              "      <td>individu 2</td>\n",
              "      <td>1</td>\n",
              "      <td>11642</td>\n",
              "      <td>18393</td>\n",
              "    </tr>\n",
              "    <tr>\n",
              "      <th>14</th>\n",
              "      <td>individu 3</td>\n",
              "      <td>1</td>\n",
              "      <td>11543</td>\n",
              "      <td>17874</td>\n",
              "    </tr>\n",
              "    <tr>\n",
              "      <th>21</th>\n",
              "      <td>individu 4</td>\n",
              "      <td>1</td>\n",
              "      <td>11529</td>\n",
              "      <td>17827</td>\n",
              "    </tr>\n",
              "    <tr>\n",
              "      <th>28</th>\n",
              "      <td>individu 5</td>\n",
              "      <td>1</td>\n",
              "      <td>11487</td>\n",
              "      <td>17687</td>\n",
              "    </tr>\n",
              "    <tr>\n",
              "      <th>35</th>\n",
              "      <td>individu 6</td>\n",
              "      <td>1</td>\n",
              "      <td>11465</td>\n",
              "      <td>17656</td>\n",
              "    </tr>\n",
              "    <tr>\n",
              "      <th>42</th>\n",
              "      <td>individu 7</td>\n",
              "      <td>1</td>\n",
              "      <td>11371</td>\n",
              "      <td>16549</td>\n",
              "    </tr>\n",
              "    <tr>\n",
              "      <th>49</th>\n",
              "      <td>individu 8</td>\n",
              "      <td>1</td>\n",
              "      <td>11339</td>\n",
              "      <td>16174</td>\n",
              "    </tr>\n",
              "    <tr>\n",
              "      <th>56</th>\n",
              "      <td>individu 9</td>\n",
              "      <td>1</td>\n",
              "      <td>11191</td>\n",
              "      <td>16159</td>\n",
              "    </tr>\n",
              "    <tr>\n",
              "      <th>63</th>\n",
              "      <td>individu 10</td>\n",
              "      <td>1</td>\n",
              "      <td>11141</td>\n",
              "      <td>16058</td>\n",
              "    </tr>\n",
              "    <tr>\n",
              "      <th>70</th>\n",
              "      <td>individu 11</td>\n",
              "      <td>1</td>\n",
              "      <td>11026</td>\n",
              "      <td>15655</td>\n",
              "    </tr>\n",
              "    <tr>\n",
              "      <th>77</th>\n",
              "      <td>individu 12</td>\n",
              "      <td>1</td>\n",
              "      <td>10882</td>\n",
              "      <td>15232</td>\n",
              "    </tr>\n",
              "    <tr>\n",
              "      <th>84</th>\n",
              "      <td>individu 13</td>\n",
              "      <td>1</td>\n",
              "      <td>10796</td>\n",
              "      <td>15186</td>\n",
              "    </tr>\n",
              "    <tr>\n",
              "      <th>91</th>\n",
              "      <td>individu 14</td>\n",
              "      <td>1</td>\n",
              "      <td>10789</td>\n",
              "      <td>15178</td>\n",
              "    </tr>\n",
              "    <tr>\n",
              "      <th>98</th>\n",
              "      <td>individu 15</td>\n",
              "      <td>1</td>\n",
              "      <td>10721</td>\n",
              "      <td>15106</td>\n",
              "    </tr>\n",
              "    <tr>\n",
              "      <th>105</th>\n",
              "      <td>individu 16</td>\n",
              "      <td>1</td>\n",
              "      <td>10396</td>\n",
              "      <td>14873</td>\n",
              "    </tr>\n",
              "    <tr>\n",
              "      <th>112</th>\n",
              "      <td>individu 17</td>\n",
              "      <td>1</td>\n",
              "      <td>9719</td>\n",
              "      <td>14853</td>\n",
              "    </tr>\n",
              "    <tr>\n",
              "      <th>119</th>\n",
              "      <td>individu 18</td>\n",
              "      <td>1</td>\n",
              "      <td>9657</td>\n",
              "      <td>12472</td>\n",
              "    </tr>\n",
              "    <tr>\n",
              "      <th>126</th>\n",
              "      <td>individu 19</td>\n",
              "      <td>1</td>\n",
              "      <td>9603</td>\n",
              "      <td>12107</td>\n",
              "    </tr>\n",
              "    <tr>\n",
              "      <th>133</th>\n",
              "      <td>individu 20</td>\n",
              "      <td>1</td>\n",
              "      <td>8778</td>\n",
              "      <td>11911</td>\n",
              "    </tr>\n",
              "  </tbody>\n",
              "</table>\n",
              "</div>\n",
              "      <button class=\"colab-df-convert\" onclick=\"convertToInteractive('df-4b45c57d-e6d0-4e63-96af-84e8e44083da')\"\n",
              "              title=\"Convert this dataframe to an interactive table.\"\n",
              "              style=\"display:none;\">\n",
              "        \n",
              "  <svg xmlns=\"http://www.w3.org/2000/svg\" height=\"24px\"viewBox=\"0 0 24 24\"\n",
              "       width=\"24px\">\n",
              "    <path d=\"M0 0h24v24H0V0z\" fill=\"none\"/>\n",
              "    <path d=\"M18.56 5.44l.94 2.06.94-2.06 2.06-.94-2.06-.94-.94-2.06-.94 2.06-2.06.94zm-11 1L8.5 8.5l.94-2.06 2.06-.94-2.06-.94L8.5 2.5l-.94 2.06-2.06.94zm10 10l.94 2.06.94-2.06 2.06-.94-2.06-.94-.94-2.06-.94 2.06-2.06.94z\"/><path d=\"M17.41 7.96l-1.37-1.37c-.4-.4-.92-.59-1.43-.59-.52 0-1.04.2-1.43.59L10.3 9.45l-7.72 7.72c-.78.78-.78 2.05 0 2.83L4 21.41c.39.39.9.59 1.41.59.51 0 1.02-.2 1.41-.59l7.78-7.78 2.81-2.81c.8-.78.8-2.07 0-2.86zM5.41 20L4 18.59l7.72-7.72 1.47 1.35L5.41 20z\"/>\n",
              "  </svg>\n",
              "      </button>\n",
              "      \n",
              "  <style>\n",
              "    .colab-df-container {\n",
              "      display:flex;\n",
              "      flex-wrap:wrap;\n",
              "      gap: 12px;\n",
              "    }\n",
              "\n",
              "    .colab-df-convert {\n",
              "      background-color: #E8F0FE;\n",
              "      border: none;\n",
              "      border-radius: 50%;\n",
              "      cursor: pointer;\n",
              "      display: none;\n",
              "      fill: #1967D2;\n",
              "      height: 32px;\n",
              "      padding: 0 0 0 0;\n",
              "      width: 32px;\n",
              "    }\n",
              "\n",
              "    .colab-df-convert:hover {\n",
              "      background-color: #E2EBFA;\n",
              "      box-shadow: 0px 1px 2px rgba(60, 64, 67, 0.3), 0px 1px 3px 1px rgba(60, 64, 67, 0.15);\n",
              "      fill: #174EA6;\n",
              "    }\n",
              "\n",
              "    [theme=dark] .colab-df-convert {\n",
              "      background-color: #3B4455;\n",
              "      fill: #D2E3FC;\n",
              "    }\n",
              "\n",
              "    [theme=dark] .colab-df-convert:hover {\n",
              "      background-color: #434B5C;\n",
              "      box-shadow: 0px 1px 3px 1px rgba(0, 0, 0, 0.15);\n",
              "      filter: drop-shadow(0px 1px 2px rgba(0, 0, 0, 0.3));\n",
              "      fill: #FFFFFF;\n",
              "    }\n",
              "  </style>\n",
              "\n",
              "      <script>\n",
              "        const buttonEl =\n",
              "          document.querySelector('#df-4b45c57d-e6d0-4e63-96af-84e8e44083da button.colab-df-convert');\n",
              "        buttonEl.style.display =\n",
              "          google.colab.kernel.accessAllowed ? 'block' : 'none';\n",
              "\n",
              "        async function convertToInteractive(key) {\n",
              "          const element = document.querySelector('#df-4b45c57d-e6d0-4e63-96af-84e8e44083da');\n",
              "          const dataTable =\n",
              "            await google.colab.kernel.invokeFunction('convertToInteractive',\n",
              "                                                     [key], {});\n",
              "          if (!dataTable) return;\n",
              "\n",
              "          const docLinkHtml = 'Like what you see? Visit the ' +\n",
              "            '<a target=\"_blank\" href=https://colab.research.google.com/notebooks/data_table.ipynb>data table notebook</a>'\n",
              "            + ' to learn more about interactive tables.';\n",
              "          element.innerHTML = '';\n",
              "          dataTable['output_type'] = 'display_data';\n",
              "          await google.colab.output.renderOutput(dataTable, element);\n",
              "          const docLink = document.createElement('div');\n",
              "          docLink.innerHTML = docLinkHtml;\n",
              "          element.appendChild(docLink);\n",
              "        }\n",
              "      </script>\n",
              "    </div>\n",
              "  </div>\n",
              "  "
            ]
          },
          "metadata": {},
          "execution_count": 6
        }
      ]
    },
    {
      "cell_type": "code",
      "source": [
        "#la degradation des anticorps\n",
        "def A(t, A_0 ):\n",
        "    return A_0 * np.exp(-k * t) + c\n"
      ],
      "metadata": {
        "id": "ZITL4EgoBnRN"
      },
      "execution_count": null,
      "outputs": []
    },
    {
      "cell_type": "code",
      "source": [
        "#on considère le cutt-off comme titre seuil 668 pour le Kit FLUNPS\n",
        "#on doit determiner le temps dans lequel le nombre des anticorps arrive à cette seuil\n",
        "\n",
        "def temps_pour_arriver_seuil(A_0, k1, c1 ):\n",
        "    t = -(1/k1) * np.log((668 - c1) / A_0)\n",
        "    return t"
      ],
      "metadata": {
        "id": "6BTvXYXiC5zA"
      },
      "execution_count": null,
      "outputs": []
    },
    {
      "cell_type": "code",
      "source": [
        "ageMDAFLUNPS=[]\n",
        "for i in data1 [\"MDA FLUNPS\"]:\n",
        "  ageMDAFLUNPS.append(temps_pour_arriver_seuil(i,k1, c1 ) )\n",
        "print(ageMDAFLUNPS)"
      ],
      "metadata": {
        "colab": {
          "base_uri": "https://localhost:8080/"
        },
        "id": "ruVlEnCZFO_v",
        "outputId": "4b95644c-e4be-4fa2-e96c-852a9ca080d2"
      },
      "execution_count": null,
      "outputs": [
        {
          "output_type": "stream",
          "name": "stdout",
          "text": [
            "[17.696906552839163, 17.69481499899466, 17.665099032116245, 17.660876217873483, 17.648176939146158, 17.641506392732637, 17.612860035470284, 17.603054027017645, 17.557338271402692, 17.541757023313735, 17.505653137489503, 17.45991008459842, 17.432301722050166, 17.430044859375464, 17.408044535168457, 17.300930947424355, 17.066620405963903, 17.04435204883543, 17.02484023036816, 16.712278479889484]\n"
          ]
        }
      ]
    },
    {
      "cell_type": "code",
      "source": [],
      "metadata": {
        "id": "XWiUxvOF0Weu"
      },
      "execution_count": null,
      "outputs": []
    },
    {
      "cell_type": "code",
      "source": [
        "MDAFLUNS_j1=[]\n",
        "for i in data1[\"MDA FLUNPS\"]:\n",
        "  MDAFLUNS_j1.append(i)\n",
        "print(MDAFLUNS_j1)"
      ],
      "metadata": {
        "colab": {
          "base_uri": "https://localhost:8080/"
        },
        "id": "SowwB6ZPGPMv",
        "outputId": "3fdcfa6b-8bb3-41d4-d6cc-5381ac0952ec"
      },
      "execution_count": null,
      "outputs": [
        {
          "output_type": "stream",
          "name": "stdout",
          "text": [
            "[11649, 11642, 11543, 11529, 11487, 11465, 11371, 11339, 11191, 11141, 11026, 10882, 10796, 10789, 10721, 10396, 9719, 9657, 9603, 8778]\n"
          ]
        }
      ]
    },
    {
      "cell_type": "code",
      "source": [
        "df = pd.DataFrame({ 'MDAFLUNS_j1':MDAFLUNS_j1,\n",
        "                   'ageMDAFLUNPS':ageMDAFLUNPS})\n",
        "df"
      ],
      "metadata": {
        "colab": {
          "base_uri": "https://localhost:8080/",
          "height": 676
        },
        "id": "LuNpzLEhGaL2",
        "outputId": "2da4f930-2dd9-4e52-c5a9-0888ff4c4e23"
      },
      "execution_count": null,
      "outputs": [
        {
          "output_type": "execute_result",
          "data": {
            "text/plain": [
              "    MDAFLUNS_j1  ageMDAFLUNPS\n",
              "0         11649     17.696907\n",
              "1         11642     17.694815\n",
              "2         11543     17.665099\n",
              "3         11529     17.660876\n",
              "4         11487     17.648177\n",
              "5         11465     17.641506\n",
              "6         11371     17.612860\n",
              "7         11339     17.603054\n",
              "8         11191     17.557338\n",
              "9         11141     17.541757\n",
              "10        11026     17.505653\n",
              "11        10882     17.459910\n",
              "12        10796     17.432302\n",
              "13        10789     17.430045\n",
              "14        10721     17.408045\n",
              "15        10396     17.300931\n",
              "16         9719     17.066620\n",
              "17         9657     17.044352\n",
              "18         9603     17.024840\n",
              "19         8778     16.712278"
            ],
            "text/html": [
              "\n",
              "  <div id=\"df-bfa4df55-2c92-43a9-9965-3861db5ea1da\">\n",
              "    <div class=\"colab-df-container\">\n",
              "      <div>\n",
              "<style scoped>\n",
              "    .dataframe tbody tr th:only-of-type {\n",
              "        vertical-align: middle;\n",
              "    }\n",
              "\n",
              "    .dataframe tbody tr th {\n",
              "        vertical-align: top;\n",
              "    }\n",
              "\n",
              "    .dataframe thead th {\n",
              "        text-align: right;\n",
              "    }\n",
              "</style>\n",
              "<table border=\"1\" class=\"dataframe\">\n",
              "  <thead>\n",
              "    <tr style=\"text-align: right;\">\n",
              "      <th></th>\n",
              "      <th>MDAFLUNS_j1</th>\n",
              "      <th>ageMDAFLUNPS</th>\n",
              "    </tr>\n",
              "  </thead>\n",
              "  <tbody>\n",
              "    <tr>\n",
              "      <th>0</th>\n",
              "      <td>11649</td>\n",
              "      <td>17.696907</td>\n",
              "    </tr>\n",
              "    <tr>\n",
              "      <th>1</th>\n",
              "      <td>11642</td>\n",
              "      <td>17.694815</td>\n",
              "    </tr>\n",
              "    <tr>\n",
              "      <th>2</th>\n",
              "      <td>11543</td>\n",
              "      <td>17.665099</td>\n",
              "    </tr>\n",
              "    <tr>\n",
              "      <th>3</th>\n",
              "      <td>11529</td>\n",
              "      <td>17.660876</td>\n",
              "    </tr>\n",
              "    <tr>\n",
              "      <th>4</th>\n",
              "      <td>11487</td>\n",
              "      <td>17.648177</td>\n",
              "    </tr>\n",
              "    <tr>\n",
              "      <th>5</th>\n",
              "      <td>11465</td>\n",
              "      <td>17.641506</td>\n",
              "    </tr>\n",
              "    <tr>\n",
              "      <th>6</th>\n",
              "      <td>11371</td>\n",
              "      <td>17.612860</td>\n",
              "    </tr>\n",
              "    <tr>\n",
              "      <th>7</th>\n",
              "      <td>11339</td>\n",
              "      <td>17.603054</td>\n",
              "    </tr>\n",
              "    <tr>\n",
              "      <th>8</th>\n",
              "      <td>11191</td>\n",
              "      <td>17.557338</td>\n",
              "    </tr>\n",
              "    <tr>\n",
              "      <th>9</th>\n",
              "      <td>11141</td>\n",
              "      <td>17.541757</td>\n",
              "    </tr>\n",
              "    <tr>\n",
              "      <th>10</th>\n",
              "      <td>11026</td>\n",
              "      <td>17.505653</td>\n",
              "    </tr>\n",
              "    <tr>\n",
              "      <th>11</th>\n",
              "      <td>10882</td>\n",
              "      <td>17.459910</td>\n",
              "    </tr>\n",
              "    <tr>\n",
              "      <th>12</th>\n",
              "      <td>10796</td>\n",
              "      <td>17.432302</td>\n",
              "    </tr>\n",
              "    <tr>\n",
              "      <th>13</th>\n",
              "      <td>10789</td>\n",
              "      <td>17.430045</td>\n",
              "    </tr>\n",
              "    <tr>\n",
              "      <th>14</th>\n",
              "      <td>10721</td>\n",
              "      <td>17.408045</td>\n",
              "    </tr>\n",
              "    <tr>\n",
              "      <th>15</th>\n",
              "      <td>10396</td>\n",
              "      <td>17.300931</td>\n",
              "    </tr>\n",
              "    <tr>\n",
              "      <th>16</th>\n",
              "      <td>9719</td>\n",
              "      <td>17.066620</td>\n",
              "    </tr>\n",
              "    <tr>\n",
              "      <th>17</th>\n",
              "      <td>9657</td>\n",
              "      <td>17.044352</td>\n",
              "    </tr>\n",
              "    <tr>\n",
              "      <th>18</th>\n",
              "      <td>9603</td>\n",
              "      <td>17.024840</td>\n",
              "    </tr>\n",
              "    <tr>\n",
              "      <th>19</th>\n",
              "      <td>8778</td>\n",
              "      <td>16.712278</td>\n",
              "    </tr>\n",
              "  </tbody>\n",
              "</table>\n",
              "</div>\n",
              "      <button class=\"colab-df-convert\" onclick=\"convertToInteractive('df-bfa4df55-2c92-43a9-9965-3861db5ea1da')\"\n",
              "              title=\"Convert this dataframe to an interactive table.\"\n",
              "              style=\"display:none;\">\n",
              "        \n",
              "  <svg xmlns=\"http://www.w3.org/2000/svg\" height=\"24px\"viewBox=\"0 0 24 24\"\n",
              "       width=\"24px\">\n",
              "    <path d=\"M0 0h24v24H0V0z\" fill=\"none\"/>\n",
              "    <path d=\"M18.56 5.44l.94 2.06.94-2.06 2.06-.94-2.06-.94-.94-2.06-.94 2.06-2.06.94zm-11 1L8.5 8.5l.94-2.06 2.06-.94-2.06-.94L8.5 2.5l-.94 2.06-2.06.94zm10 10l.94 2.06.94-2.06 2.06-.94-2.06-.94-.94-2.06-.94 2.06-2.06.94z\"/><path d=\"M17.41 7.96l-1.37-1.37c-.4-.4-.92-.59-1.43-.59-.52 0-1.04.2-1.43.59L10.3 9.45l-7.72 7.72c-.78.78-.78 2.05 0 2.83L4 21.41c.39.39.9.59 1.41.59.51 0 1.02-.2 1.41-.59l7.78-7.78 2.81-2.81c.8-.78.8-2.07 0-2.86zM5.41 20L4 18.59l7.72-7.72 1.47 1.35L5.41 20z\"/>\n",
              "  </svg>\n",
              "      </button>\n",
              "      \n",
              "  <style>\n",
              "    .colab-df-container {\n",
              "      display:flex;\n",
              "      flex-wrap:wrap;\n",
              "      gap: 12px;\n",
              "    }\n",
              "\n",
              "    .colab-df-convert {\n",
              "      background-color: #E8F0FE;\n",
              "      border: none;\n",
              "      border-radius: 50%;\n",
              "      cursor: pointer;\n",
              "      display: none;\n",
              "      fill: #1967D2;\n",
              "      height: 32px;\n",
              "      padding: 0 0 0 0;\n",
              "      width: 32px;\n",
              "    }\n",
              "\n",
              "    .colab-df-convert:hover {\n",
              "      background-color: #E2EBFA;\n",
              "      box-shadow: 0px 1px 2px rgba(60, 64, 67, 0.3), 0px 1px 3px 1px rgba(60, 64, 67, 0.15);\n",
              "      fill: #174EA6;\n",
              "    }\n",
              "\n",
              "    [theme=dark] .colab-df-convert {\n",
              "      background-color: #3B4455;\n",
              "      fill: #D2E3FC;\n",
              "    }\n",
              "\n",
              "    [theme=dark] .colab-df-convert:hover {\n",
              "      background-color: #434B5C;\n",
              "      box-shadow: 0px 1px 3px 1px rgba(0, 0, 0, 0.15);\n",
              "      filter: drop-shadow(0px 1px 2px rgba(0, 0, 0, 0.3));\n",
              "      fill: #FFFFFF;\n",
              "    }\n",
              "  </style>\n",
              "\n",
              "      <script>\n",
              "        const buttonEl =\n",
              "          document.querySelector('#df-bfa4df55-2c92-43a9-9965-3861db5ea1da button.colab-df-convert');\n",
              "        buttonEl.style.display =\n",
              "          google.colab.kernel.accessAllowed ? 'block' : 'none';\n",
              "\n",
              "        async function convertToInteractive(key) {\n",
              "          const element = document.querySelector('#df-bfa4df55-2c92-43a9-9965-3861db5ea1da');\n",
              "          const dataTable =\n",
              "            await google.colab.kernel.invokeFunction('convertToInteractive',\n",
              "                                                     [key], {});\n",
              "          if (!dataTable) return;\n",
              "\n",
              "          const docLinkHtml = 'Like what you see? Visit the ' +\n",
              "            '<a target=\"_blank\" href=https://colab.research.google.com/notebooks/data_table.ipynb>data table notebook</a>'\n",
              "            + ' to learn more about interactive tables.';\n",
              "          element.innerHTML = '';\n",
              "          dataTable['output_type'] = 'display_data';\n",
              "          await google.colab.output.renderOutput(dataTable, element);\n",
              "          const docLink = document.createElement('div');\n",
              "          docLink.innerHTML = docLinkHtml;\n",
              "          element.appendChild(docLink);\n",
              "        }\n",
              "      </script>\n",
              "    </div>\n",
              "  </div>\n",
              "  "
            ]
          },
          "metadata": {},
          "execution_count": 11
        }
      ]
    },
    {
      "cell_type": "code",
      "source": [
        "mean_jour_FLUNPS = df['ageMDAFLUNPS'].mean()\n",
        "print(\"the mean of days to arrive to the cutt_of:\",mean_jour_FLUNPS)\n",
        "max=df['ageMDAFLUNPS'].max()\n",
        "print('the max of days to arrive to the cutt_off:',max)"
      ],
      "metadata": {
        "colab": {
          "base_uri": "https://localhost:8080/"
        },
        "id": "Np6DNsA2Gfow",
        "outputId": "95dc35cf-648b-4c37-a0af-874cd36c32df"
      },
      "execution_count": null,
      "outputs": [
        {
          "output_type": "stream",
          "name": "stdout",
          "text": [
            "the mean of days to arrive to the cutt_of: 17.435368297103505\n",
            "the max of days to arrive to the cutt_off: 17.696906552839163\n"
          ]
        }
      ]
    },
    {
      "cell_type": "code",
      "source": [
        "df['ageMDAFLUNPS'].max()"
      ],
      "metadata": {
        "colab": {
          "base_uri": "https://localhost:8080/"
        },
        "id": "JaSfoT3dZI15",
        "outputId": "5188bec7-4ed5-40dd-d232-52bd3f339af3"
      },
      "execution_count": null,
      "outputs": [
        {
          "output_type": "execute_result",
          "data": {
            "text/plain": [
              "17.696906552839163"
            ]
          },
          "metadata": {},
          "execution_count": 18
        }
      ]
    },
    {
      "cell_type": "code",
      "source": [
        "from scipy.optimize import curve_fit\n",
        "import numpy as np\n",
        "# Définir la fonction exponentielle\n",
        "def exp_func(x, a, b, c):\n",
        "    return a * np.exp(-b * x) + c\n",
        "\n",
        "# Entrer les données d'observation\n",
        "x_data = data['jour']\n",
        "y_data = data['MDA FLUH9S'] # Niveau d'anticorps observé\n",
        "\n",
        "# Utiliser la méthode des moindres carrés pour ajuster la courbe\n",
        "pop , pcov = curve_fit(exp_func, x_data, y_data)\n",
        "\n",
        "# Afficher les paramètres a, b et c de la fonction ajustée\n",
        "print('a =', pop [0], ', k =', pop [1], ', c =', pop [2])\n",
        "\n",
        "# Plot des données d'observation et de la fonction ajustée\n",
        "import matplotlib.pyplot as plt\n",
        "\n",
        "plt.plot(x_data, y_data, 'o', label='Données d\\'observation')\n",
        "plt.plot(x_data, exp_func(x_data, *pop), 'r-', label='Fonction exponentielle ajustée')\n",
        "plt.legend()\n",
        "plt.show()"
      ],
      "metadata": {
        "colab": {
          "base_uri": "https://localhost:8080/",
          "height": 485
        },
        "id": "HBVdA7gSCOlA",
        "outputId": "6b09be88-4575-4611-aac7-19773bffd266"
      },
      "execution_count": null,
      "outputs": [
        {
          "output_type": "stream",
          "name": "stderr",
          "text": [
            "/usr/local/lib/python3.10/dist-packages/pandas/core/arraylike.py:402: RuntimeWarning: overflow encountered in exp\n",
            "  result = getattr(ufunc, method)(*inputs, **kwargs)\n"
          ]
        },
        {
          "output_type": "stream",
          "name": "stdout",
          "text": [
            "a = 19235.81138992403 , k = 0.2381746628212005 , c = 553.8381411975748\n"
          ]
        },
        {
          "output_type": "display_data",
          "data": {
            "text/plain": [
              "<Figure size 640x480 with 1 Axes>"
            ],
            "image/png": "[encoded data removed]"
          },
          "metadata": {}
        }
      ]
    },
    {
      "cell_type": "code",
      "source": [
        "k=pop[1]\n",
        "c=pop[2]"
      ],
      "metadata": {
        "id": "-a2RhBTnCoIl"
      },
      "execution_count": null,
      "outputs": []
    },
    {
      "cell_type": "code",
      "source": [
        "def temps_pour_arriver_cut_off(A_0, k, c,cut_off ):\n",
        "    t = -(1/k) * np.log((cut_off - c) / A_0)\n",
        "    return t"
      ],
      "metadata": {
        "id": "gDlI2dvIkxRU"
      },
      "execution_count": null,
      "outputs": []
    },
    {
      "cell_type": "code",
      "source": [
        "##on considère le cutt-off comme titre seuil 732 pour le Kit FLUH9S\n",
        "#on doit determiner le temps dans lequel le nombre des anticorps arrive à cette seuil\n",
        "\n",
        "def temps_pour_arriver_seuilFLUH9S(A_0, k, c ):\n",
        "    t = -(1/k) * np.log((732 - c) / A_0)\n",
        "    return t\n",
        "\n"
      ],
      "metadata": {
        "id": "O3X7EHaMHL9_"
      },
      "execution_count": null,
      "outputs": []
    },
    {
      "cell_type": "code",
      "source": [
        "ageMDAFLUH9S=[]\n",
        "for i in data1 [\"MDA FLUH9S\"]:\n",
        "  ageMDAFLUH9S.append(temps_pour_arriver_seuilFLUH9S(i,k, c ))\n",
        "print(ageMDAFLUH9S)"
      ],
      "metadata": {
        "colab": {
          "base_uri": "https://localhost:8080/"
        },
        "id": "SJkonjCfIEcd",
        "outputId": "c7dc2c5a-5995-48e4-bf43-7c7a89aed454"
      },
      "execution_count": null,
      "outputs": [
        {
          "output_type": "stream",
          "name": "stdout",
          "text": [
            "[19.563393404966344, 19.469043958236604, 19.34886738634429, 19.337812553902047, 19.304709723300007, 19.297344382766124, 19.025485104576497, 18.929250424985987, 18.92535477684051, 18.89902954915529, 18.792314533027803, 18.677307015414886, 18.66460823703879, 18.662395827863612, 18.642431508258237, 18.577166265109913, 18.571516530805155, 17.83795515520627, 17.713246952922933, 17.644719702234255]\n"
          ]
        }
      ]
    },
    {
      "cell_type": "code",
      "source": [
        "MDAFLUH9S_j1=[]\n",
        "for i in data1[\"MDA FLUH9S\"]:\n",
        "  MDAFLUH9S_j1.append(i)\n",
        "print(MDAFLUH9S_j1)"
      ],
      "metadata": {
        "colab": {
          "base_uri": "https://localhost:8080/"
        },
        "id": "xyPWvJ_fIYBD",
        "outputId": "0f528f61-0b53-4259-a407-6a5a9cb2872b"
      },
      "execution_count": null,
      "outputs": [
        {
          "output_type": "stream",
          "name": "stdout",
          "text": [
            "[18811, 18393, 17874, 17827, 17687, 17656, 16549, 16174, 16159, 16058, 15655, 15232, 15186, 15178, 15106, 14873, 14853, 12472, 12107, 11911]\n"
          ]
        }
      ]
    },
    {
      "cell_type": "code",
      "source": [
        "df2 = pd.DataFrame({ 'MDAFLUH9S_j1':MDAFLUH9S_j1,\n",
        "                   'ageMDAFLUH9S':ageMDAFLUH9S})\n",
        "df2"
      ],
      "metadata": {
        "colab": {
          "base_uri": "https://localhost:8080/",
          "height": 676
        },
        "id": "DimdqJQ1IcAN",
        "outputId": "c3b9188c-c8df-4792-aba5-4dcb17de2d8d"
      },
      "execution_count": null,
      "outputs": [
        {
          "output_type": "execute_result",
          "data": {
            "text/plain": [
              "    MDAFLUH9S_j1  ageMDAFLUH9S\n",
              "0          18811     19.563393\n",
              "1          18393     19.469044\n",
              "2          17874     19.348867\n",
              "3          17827     19.337813\n",
              "4          17687     19.304710\n",
              "5          17656     19.297344\n",
              "6          16549     19.025485\n",
              "7          16174     18.929250\n",
              "8          16159     18.925355\n",
              "9          16058     18.899030\n",
              "10         15655     18.792315\n",
              "11         15232     18.677307\n",
              "12         15186     18.664608\n",
              "13         15178     18.662396\n",
              "14         15106     18.642432\n",
              "15         14873     18.577166\n",
              "16         14853     18.571517\n",
              "17         12472     17.837955\n",
              "18         12107     17.713247\n",
              "19         11911     17.644720"
            ],
            "text/html": [
              "\n",
              "  <div id=\"df-db1dbaa1-e1d8-4293-8f0e-ba940ebd9a92\">\n",
              "    <div class=\"colab-df-container\">\n",
              "      <div>\n",
              "<style scoped>\n",
              "    .dataframe tbody tr th:only-of-type {\n",
              "        vertical-align: middle;\n",
              "    }\n",
              "\n",
              "    .dataframe tbody tr th {\n",
              "        vertical-align: top;\n",
              "    }\n",
              "\n",
              "    .dataframe thead th {\n",
              "        text-align: right;\n",
              "    }\n",
              "</style>\n",
              "<table border=\"1\" class=\"dataframe\">\n",
              "  <thead>\n",
              "    <tr style=\"text-align: right;\">\n",
              "      <th></th>\n",
              "      <th>MDAFLUH9S_j1</th>\n",
              "      <th>ageMDAFLUH9S</th>\n",
              "    </tr>\n",
              "  </thead>\n",
              "  <tbody>\n",
              "    <tr>\n",
              "      <th>0</th>\n",
              "      <td>18811</td>\n",
              "      <td>19.563393</td>\n",
              "    </tr>\n",
              "    <tr>\n",
              "      <th>1</th>\n",
              "      <td>18393</td>\n",
              "      <td>19.469044</td>\n",
              "    </tr>\n",
              "    <tr>\n",
              "      <th>2</th>\n",
              "      <td>17874</td>\n",
              "      <td>19.348867</td>\n",
              "    </tr>\n",
              "    <tr>\n",
              "      <th>3</th>\n",
              "      <td>17827</td>\n",
              "      <td>19.337813</td>\n",
              "    </tr>\n",
              "    <tr>\n",
              "      <th>4</th>\n",
              "      <td>17687</td>\n",
              "      <td>19.304710</td>\n",
              "    </tr>\n",
              "    <tr>\n",
              "      <th>5</th>\n",
              "      <td>17656</td>\n",
              "      <td>19.297344</td>\n",
              "    </tr>\n",
              "    <tr>\n",
              "      <th>6</th>\n",
              "      <td>16549</td>\n",
              "      <td>19.025485</td>\n",
              "    </tr>\n",
              "    <tr>\n",
              "      <th>7</th>\n",
              "      <td>16174</td>\n",
              "      <td>18.929250</td>\n",
              "    </tr>\n",
              "    <tr>\n",
              "      <th>8</th>\n",
              "      <td>16159</td>\n",
              "      <td>18.925355</td>\n",
              "    </tr>\n",
              "    <tr>\n",
              "      <th>9</th>\n",
              "      <td>16058</td>\n",
              "      <td>18.899030</td>\n",
              "    </tr>\n",
              "    <tr>\n",
              "      <th>10</th>\n",
              "      <td>15655</td>\n",
              "      <td>18.792315</td>\n",
              "    </tr>\n",
              "    <tr>\n",
              "      <th>11</th>\n",
              "      <td>15232</td>\n",
              "      <td>18.677307</td>\n",
              "    </tr>\n",
              "    <tr>\n",
              "      <th>12</th>\n",
              "      <td>15186</td>\n",
              "      <td>18.664608</td>\n",
              "    </tr>\n",
              "    <tr>\n",
              "      <th>13</th>\n",
              "      <td>15178</td>\n",
              "      <td>18.662396</td>\n",
              "    </tr>\n",
              "    <tr>\n",
              "      <th>14</th>\n",
              "      <td>15106</td>\n",
              "      <td>18.642432</td>\n",
              "    </tr>\n",
              "    <tr>\n",
              "      <th>15</th>\n",
              "      <td>14873</td>\n",
              "      <td>18.577166</td>\n",
              "    </tr>\n",
              "    <tr>\n",
              "      <th>16</th>\n",
              "      <td>14853</td>\n",
              "      <td>18.571517</td>\n",
              "    </tr>\n",
              "    <tr>\n",
              "      <th>17</th>\n",
              "      <td>12472</td>\n",
              "      <td>17.837955</td>\n",
              "    </tr>\n",
              "    <tr>\n",
              "      <th>18</th>\n",
              "      <td>12107</td>\n",
              "      <td>17.713247</td>\n",
              "    </tr>\n",
              "    <tr>\n",
              "      <th>19</th>\n",
              "      <td>11911</td>\n",
              "      <td>17.644720</td>\n",
              "    </tr>\n",
              "  </tbody>\n",
              "</table>\n",
              "</div>\n",
              "      <button class=\"colab-df-convert\" onclick=\"convertToInteractive('df-db1dbaa1-e1d8-4293-8f0e-ba940ebd9a92')\"\n",
              "              title=\"Convert this dataframe to an interactive table.\"\n",
              "              style=\"display:none;\">\n",
              "        \n",
              "  <svg xmlns=\"http://www.w3.org/2000/svg\" height=\"24px\"viewBox=\"0 0 24 24\"\n",
              "       width=\"24px\">\n",
              "    <path d=\"M0 0h24v24H0V0z\" fill=\"none\"/>\n",
              "    <path d=\"M18.56 5.44l.94 2.06.94-2.06 2.06-.94-2.06-.94-.94-2.06-.94 2.06-2.06.94zm-11 1L8.5 8.5l.94-2.06 2.06-.94-2.06-.94L8.5 2.5l-.94 2.06-2.06.94zm10 10l.94 2.06.94-2.06 2.06-.94-2.06-.94-.94-2.06-.94 2.06-2.06.94z\"/><path d=\"M17.41 7.96l-1.37-1.37c-.4-.4-.92-.59-1.43-.59-.52 0-1.04.2-1.43.59L10.3 9.45l-7.72 7.72c-.78.78-.78 2.05 0 2.83L4 21.41c.39.39.9.59 1.41.59.51 0 1.02-.2 1.41-.59l7.78-7.78 2.81-2.81c.8-.78.8-2.07 0-2.86zM5.41 20L4 18.59l7.72-7.72 1.47 1.35L5.41 20z\"/>\n",
              "  </svg>\n",
              "      </button>\n",
              "      \n",
              "  <style>\n",
              "    .colab-df-container {\n",
              "      display:flex;\n",
              "      flex-wrap:wrap;\n",
              "      gap: 12px;\n",
              "    }\n",
              "\n",
              "    .colab-df-convert {\n",
              "      background-color: #E8F0FE;\n",
              "      border: none;\n",
              "      border-radius: 50%;\n",
              "      cursor: pointer;\n",
              "      display: none;\n",
              "      fill: #1967D2;\n",
              "      height: 32px;\n",
              "      padding: 0 0 0 0;\n",
              "      width: 32px;\n",
              "    }\n",
              "\n",
              "    .colab-df-convert:hover {\n",
              "      background-color: #E2EBFA;\n",
              "      box-shadow: 0px 1px 2px rgba(60, 64, 67, 0.3), 0px 1px 3px 1px rgba(60, 64, 67, 0.15);\n",
              "      fill: #174EA6;\n",
              "    }\n",
              "\n",
              "    [theme=dark] .colab-df-convert {\n",
              "      background-color: #3B4455;\n",
              "      fill: #D2E3FC;\n",
              "    }\n",
              "\n",
              "    [theme=dark] .colab-df-convert:hover {\n",
              "      background-color: #434B5C;\n",
              "      box-shadow: 0px 1px 3px 1px rgba(0, 0, 0, 0.15);\n",
              "      filter: drop-shadow(0px 1px 2px rgba(0, 0, 0, 0.3));\n",
              "      fill: #FFFFFF;\n",
              "    }\n",
              "  </style>\n",
              "\n",
              "      <script>\n",
              "        const buttonEl =\n",
              "          document.querySelector('#df-db1dbaa1-e1d8-4293-8f0e-ba940ebd9a92 button.colab-df-convert');\n",
              "        buttonEl.style.display =\n",
              "          google.colab.kernel.accessAllowed ? 'block' : 'none';\n",
              "\n",
              "        async function convertToInteractive(key) {\n",
              "          const element = document.querySelector('#df-db1dbaa1-e1d8-4293-8f0e-ba940ebd9a92');\n",
              "          const dataTable =\n",
              "            await google.colab.kernel.invokeFunction('convertToInteractive',\n",
              "                                                     [key], {});\n",
              "          if (!dataTable) return;\n",
              "\n",
              "          const docLinkHtml = 'Like what you see? Visit the ' +\n",
              "            '<a target=\"_blank\" href=https://colab.research.google.com/notebooks/data_table.ipynb>data table notebook</a>'\n",
              "            + ' to learn more about interactive tables.';\n",
              "          element.innerHTML = '';\n",
              "          dataTable['output_type'] = 'display_data';\n",
              "          await google.colab.output.renderOutput(dataTable, element);\n",
              "          const docLink = document.createElement('div');\n",
              "          docLink.innerHTML = docLinkHtml;\n",
              "          element.appendChild(docLink);\n",
              "        }\n",
              "      </script>\n",
              "    </div>\n",
              "  </div>\n",
              "  "
            ]
          },
          "metadata": {},
          "execution_count": 25
        }
      ]
    },
    {
      "cell_type": "code",
      "source": [
        "mean_jour_FLUH9S = df2['ageMDAFLUH9S'].mean()\n",
        "print(mean_jour_FLUH9S)"
      ],
      "metadata": {
        "colab": {
          "base_uri": "https://localhost:8080/"
        },
        "id": "A5Y902q7Ig7D",
        "outputId": "ad4486f7-5bae-4532-bb70-7e15ac6e9265"
      },
      "execution_count": null,
      "outputs": [
        {
          "output_type": "stream",
          "name": "stdout",
          "text": [
            "18.794197649647778\n"
          ]
        }
      ]
    },
    {
      "cell_type": "code",
      "source": [
        "df2['ageMDAFLUH9S'].max()"
      ],
      "metadata": {
        "colab": {
          "base_uri": "https://localhost:8080/"
        },
        "id": "R2NQe2BaZSm2",
        "outputId": "7ac2df93-87a9-44b9-996c-5b69e0986f9d"
      },
      "execution_count": null,
      "outputs": [
        {
          "output_type": "execute_result",
          "data": {
            "text/plain": [
              "19.563393404966344"
            ]
          },
          "metadata": {},
          "execution_count": 28
        }
      ]
    },
    {
      "cell_type": "code",
      "source": [
        "mean_jour_FLUH9S = df2['ageMDAFLUH9S'].mean()\n",
        "print(\"the mean of days to arrive to the cutt_of:\",mean_jour_FLUH9S)\n",
        "max1=df2['ageMDAFLUH9S'].max()\n",
        "print('the max of days to arrive to the cutt_off:',max1)"
      ],
      "metadata": {
        "colab": {
          "base_uri": "https://localhost:8080/"
        },
        "id": "Z81vmQnTcdDk",
        "outputId": "1ecc3880-4a09-449b-b57e-c7829d7ac6cf"
      },
      "execution_count": null,
      "outputs": [
        {
          "output_type": "stream",
          "name": "stdout",
          "text": [
            "the mean of days to arrive to the cutt_of: 18.794197649647778\n",
            "the max of days to arrive to the cutt_off: 19.563393404966344\n"
          ]
        }
      ]
    }
  ]
}